{
 "cells": [
  {
   "cell_type": "markdown",
   "metadata": {},
   "source": [
    "### Chatbot"
   ]
  },
  {
   "cell_type": "code",
   "execution_count": 1,
   "metadata": {},
   "outputs": [],
   "source": [
    "!pip install flask"
   ]
  },
  {
   "cell_type": "code",
   "execution_count": null,
   "metadata": {},
   "outputs": [],
   "source": [
    "import nltk\n",
    "from nltk.chat.util import Chat, reflections                                                        #Raw string: treats each character individually like we have to treat \\n individually.\n",
    "que1 = r'how are you' \n",
    "answer1 = [\n",
    "    'all well',\n",
    "    'I am good',\n",
    "    'awesome'\n",
    "]\n",
    "que2 = r'what can you do'\n",
    "answer2 = [\n",
    "    'I can reply to your queries',\n",
    "    'I am here to answer your questions',\n",
    "    'I can chat with you'\n",
    "]\n",
    "que3 = r'(.*)your name'\n",
    "answer3 = [\n",
    "    'My name is chatty',\n",
    "    'I am chatty'\n",
    "]\n",
    "que4 = r'(.*)mausam(.*)b[a]+rish(.*)'\n",
    "answer4 = ['It look it will rain today', 'baarish ka mausam hai', 'baarish ho sakti hai mausam kharab hai']\n",
    "qa_pair = [\n",
    "    (que1 , answer1),\n",
    "    (que2 , answer2),\n",
    "    (que3 , answer3),\n",
    "    (que4 , answer4)\n",
    "]                                                                                                         \n",
    "chatbot = Chat(qa_pair)    \n",
    "                                                                       \n",
    "print(\"q: \", question)\n",
    "reply = chatbot.respond(question)\n",
    "print(\"a: \", reply)"
   ]
  },
  {
   "cell_type": "code",
   "execution_count": null,
   "metadata": {},
   "outputs": [],
   "source": [
    "from flask import Flask, render_template, request\n",
    "from nltk.chat.util import Chat, reflections\n",
    "que1 = r'how are you' \n",
    "answer1 = [\n",
    "    'all well',\n",
    "    'I am good',\n",
    "    'awesome'\n",
    "]\n",
    "que2 = r'what(.*)do(.*)'\n",
    "answer2 = [\n",
    "    'I can reply to your queries',\n",
    "    'I am here to answer your questions',\n",
    "    'I can chat with you'\n",
    "]\n",
    "que3 = r'(.*)your name'\n",
    "answer3 = [\n",
    "    'My name is chatty',\n",
    "    'I am chatty'\n",
    "]\n",
    "que4 = r'(.*)mausam(.*)b[a]+rish(.*)'\n",
    "answer4 = ['It look it will rain today', 'baarish ka mausam hai', 'baarish ho sakti hai mausam kharab hai']\n",
    "qa_pair = [\n",
    "    (que1 , answer1),\n",
    "    (que2 , answer2),\n",
    "    (que3 , answer3),\n",
    "    (que4 , answer4)\n",
    "]\n",
    "chatbot = Chat(qa_pair)\n",
    "\n",
    "\n",
    "\n",
    "app = Flask(_name_)\n",
    "@app.route('/')\n",
    "def home():\n",
    "    global chatbot\n",
    "    query = request.args.get('query')\n",
    "    if query!=None:\n",
    "        response = chatbot.respond(query)\n",
    "        if response == None:\n",
    "            response = 'Sorry i am not sure'\n",
    "\n",
    "    else:\n",
    "        response = \"We didn't get the query\"\n",
    "    return render_template('index.html', result = response)\n",
    "@app.route('/chatbot')\n",
    "def chat():\n",
    "    return \"<h2>Chat Bot</h2>\"\n",
    "app.run(debug = True)"
   ]
  }
 ],
 "metadata": {
  "kernelspec": {
   "display_name": "Python 3",
   "language": "python",
   "name": "python3"
  },
  "language_info": {
   "codemirror_mode": {
    "name": "ipython",
    "version": 3
   },
   "file_extension": ".py",
   "mimetype": "text/x-python",
   "name": "python",
   "nbconvert_exporter": "python",
   "pygments_lexer": "ipython3",
   "version": "3.10.11"
  },
  "orig_nbformat": 4
 },
 "nbformat": 4,
 "nbformat_minor": 2
}
