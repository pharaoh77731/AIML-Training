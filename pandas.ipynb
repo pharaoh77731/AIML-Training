{
 "cells": [
  {
   "cell_type": "code",
   "execution_count": 6,
   "metadata": {},
   "outputs": [
    {
     "name": "stdout",
     "output_type": "stream",
     "text": [
      "  name        enc\n",
      "0    a  [1, 2, 3]\n",
      "1    b  [4, 5, 6]\n",
      "2    c  [7, 8, 9]\n"
     ]
    }
   ],
   "source": [
    "# Pandas used in Data frames/sets (Databases) \n",
    "# (\"csv = comma separated values\") (\"tsv = tabseparates values)\n",
    "\n",
    "import pandas as pd\n",
    "dict1 = {\"name\":['a','b','c'],\"enc\":[[1,2,3],[4,5,6],[7,8,9]]}\n",
    "db = pd.DataFrame(dict_2)\n",
    "print(db)\n",
    "db.to_csv(\"test.csv\")"
   ]
  },
  {
   "cell_type": "code",
   "execution_count": 7,
   "metadata": {},
   "outputs": [
    {
     "data": {
      "text/html": [
       "<div>\n",
       "<style scoped>\n",
       "    .dataframe tbody tr th:only-of-type {\n",
       "        vertical-align: middle;\n",
       "    }\n",
       "\n",
       "    .dataframe tbody tr th {\n",
       "        vertical-align: top;\n",
       "    }\n",
       "\n",
       "    .dataframe thead th {\n",
       "        text-align: right;\n",
       "    }\n",
       "</style>\n",
       "<table border=\"1\" class=\"dataframe\">\n",
       "  <thead>\n",
       "    <tr style=\"text-align: right;\">\n",
       "      <th></th>\n",
       "      <th>name</th>\n",
       "      <th>enc</th>\n",
       "    </tr>\n",
       "  </thead>\n",
       "  <tbody>\n",
       "    <tr>\n",
       "      <th>0</th>\n",
       "      <td>a</td>\n",
       "      <td>[1, 2, 3]</td>\n",
       "    </tr>\n",
       "    <tr>\n",
       "      <th>1</th>\n",
       "      <td>b</td>\n",
       "      <td>[4, 5, 6]</td>\n",
       "    </tr>\n",
       "    <tr>\n",
       "      <th>2</th>\n",
       "      <td>c</td>\n",
       "      <td>[7, 8, 9]</td>\n",
       "    </tr>\n",
       "  </tbody>\n",
       "</table>\n",
       "</div>"
      ],
      "text/plain": [
       "  name        enc\n",
       "0    a  [1, 2, 3]\n",
       "1    b  [4, 5, 6]\n",
       "2    c  [7, 8, 9]"
      ]
     },
     "execution_count": 7,
     "metadata": {},
     "output_type": "execute_result"
    }
   ],
   "source": [
    "# Read csv file\n",
    "new_db = pd.read_csv(\"test.csv\",index_col=0)\n",
    "new_db"
   ]
  },
  {
   "cell_type": "code",
   "execution_count": 8,
   "metadata": {},
   "outputs": [
    {
     "name": "stdout",
     "output_type": "stream",
     "text": [
      "['a', 'b', 'c']\n",
      "['[1, 2, 3]', '[4, 5, 6]', '[7, 8, 9]']\n"
     ]
    },
    {
     "data": {
      "text/plain": [
       "list"
      ]
     },
     "execution_count": 8,
     "metadata": {},
     "output_type": "execute_result"
    }
   ],
   "source": [
    "# Accessing DB columns\n",
    "n = new_db[\"name\"].values.tolist()\n",
    "e = new_db[\"enc\"].values.tolist()\n",
    "print(n)\n",
    "print(e)\n",
    "type(n)\n",
    "type(e)"
   ]
  },
  {
   "cell_type": "code",
   "execution_count": 9,
   "metadata": {},
   "outputs": [
    {
     "data": {
      "text/plain": [
       "{'name': ['a', 'b', 'c', 'd'],\n",
       " 'enc': ['[1, 2, 3]', '[4, 5, 6]', '[7, 8, 9]', [10, 11, 12]]}"
      ]
     },
     "execution_count": 9,
     "metadata": {},
     "output_type": "execute_result"
    }
   ],
   "source": [
    "# Append new items in dict_2\n",
    "newdict = {\"name\":n,\"enc\":e}\n",
    "n.append(\"d\")\n",
    "e.append([10,11,12])\n",
    "newdict"
   ]
  },
  {
   "cell_type": "code",
   "execution_count": 28,
   "metadata": {},
   "outputs": [
    {
     "data": {
      "text/plain": [
       "[[1, 2, 3], [4, 5, 6]]"
      ]
     },
     "execution_count": 28,
     "metadata": {},
     "output_type": "execute_result"
    }
   ],
   "source": [
    "dict2 = {\"name\":[[1,2,3],[4,5,6]]}\n",
    "base = pd.DataFrame(dict2)\n",
    "b = base[\"name\"].values.tolist()\n",
    "\n",
    "# To append in list with any datatype\n",
    "c = b.append(list(input()))\n",
    "c"
   ]
  },
  {
   "cell_type": "code",
   "execution_count": null,
   "metadata": {},
   "outputs": [],
   "source": []
  }
 ],
 "metadata": {
  "kernelspec": {
   "display_name": "Python 3",
   "language": "python",
   "name": "python3"
  },
  "language_info": {
   "codemirror_mode": {
    "name": "ipython",
    "version": 3
   },
   "file_extension": ".py",
   "mimetype": "text/x-python",
   "name": "python",
   "nbconvert_exporter": "python",
   "pygments_lexer": "ipython3",
   "version": "3.10.11"
  },
  "orig_nbformat": 4
 },
 "nbformat": 4,
 "nbformat_minor": 2
}
